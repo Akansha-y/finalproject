{
    "cells": [
        {
            "metadata": {
                "collapsed": true
            },
            "cell_type": "markdown",
            "source": "# My Jupyter Notebook on IBM Watson Studio"
        },
        {
            "metadata": {},
            "cell_type": "markdown",
            "source": "## Akansha yadav\nData Science Intern"
        },
        {
            "metadata": {},
            "cell_type": "markdown",
            "source": "*i am interested in data science because i would to contribute my efforts in IT firms in future and also i thinking in future the entire world will be driven by technology.*"
        },
        {
            "metadata": {},
            "cell_type": "markdown",
            "source": "### The below code should print \"Tools for Data Science-final Assessment\""
        },
        {
            "metadata": {},
            "cell_type": "code",
            "source": "print(\"Tools for Data Science-final Assessment\")",
            "execution_count": 1,
            "outputs": [
                {
                    "output_type": "stream",
                    "text": "Tools for Data Science-final Assessment\n",
                    "name": "stdout"
                }
            ]
        },
        {
            "metadata": {},
            "cell_type": "code",
            "source": "",
            "execution_count": null,
            "outputs": []
        }
    ],
    "metadata": {
        "kernelspec": {
            "name": "python3",
            "display_name": "Python 3.10",
            "language": "python"
        },
        "language_info": {
            "name": "python",
            "version": "3.10.6",
            "mimetype": "text/x-python",
            "codemirror_mode": {
                "name": "ipython",
                "version": 3
            },
            "pygments_lexer": "ipython3",
            "nbconvert_exporter": "python",
            "file_extension": ".py"
        }
    },
    "nbformat": 4,
    "nbformat_minor": 1
}